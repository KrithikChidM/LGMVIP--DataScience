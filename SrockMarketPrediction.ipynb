{
  "nbformat": 4,
  "nbformat_minor": 0,
  "metadata": {
    "colab": {
      "name": "Untitled0.ipynb",
      "provenance": [],
      "authorship_tag": "ABX9TyNq2C31gq0GIscmFXCiUbrA",
      "include_colab_link": true
    },
    "kernelspec": {
      "name": "python3",
      "display_name": "Python 3"
    },
    "language_info": {
      "name": "python"
    }
  },
  "cells": [
    {
      "cell_type": "markdown",
      "metadata": {
        "id": "view-in-github",
        "colab_type": "text"
      },
      "source": [
        "<a href=\"https://colab.research.google.com/github/KrithikChidM/LGMVIP--DataScience/blob/main/SrockMarketPrediction.ipynb\" target=\"_parent\"><img src=\"https://colab.research.google.com/assets/colab-badge.svg\" alt=\"Open In Colab\"/></a>"
      ]
    },
    {
      "cell_type": "markdown",
      "source": [
        "#Process Path:\n",
        "\n",
        "1.   Normalization of Data\n",
        "2.   Splitting the Dataset into Train and Test Sets\n",
        "1.   Reshaping the Input\n",
        "2.   Creating the LSTM Model\n",
        "1.   Transforming back into original form\n",
        "2.   Plotting using Shift Train Prediction\n",
        "2.   Predicting the Stock Price of the next 30 days\n",
        "\n",
        "\n",
        "\n",
        "\n",
        "\n"
      ],
      "metadata": {
        "id": "0uwGs-Lk3Tfv"
      }
    },
    {
      "cell_type": "code",
      "source": [
        "import math\n",
        "import numpy as np\n",
        "import pandas as pd\n",
        "import matplotlib.pyplot as plt"
      ],
      "metadata": {
        "id": "QgFDJRKWxKZb"
      },
      "execution_count": 1,
      "outputs": []
    },
    {
      "cell_type": "code",
      "source": [
        "url = \"https://raw.githubusercontent.com/mwitiderrick/stockprice/master/NSE-TATAGLOBAL.csv\"\n",
        "train_dataset = pd.read_csv(url)\n",
        "training_set = train_dataset.iloc[:,1:2].values\n",
        "train_dataset.head()"
      ],
      "metadata": {
        "colab": {
          "base_uri": "https://localhost:8080/",
          "height": 206
        },
        "id": "r-oDa7EjxM03",
        "outputId": "6bf8ed4b-54ae-4a20-c1f6-50fd97ec196e"
      },
      "execution_count": 2,
      "outputs": [
        {
          "output_type": "execute_result",
          "data": {
            "text/plain": [
              "         Date    Open    High     Low    Last   Close  Total Trade Quantity  \\\n",
              "0  2018-09-28  234.05  235.95  230.20  233.50  233.75               3069914   \n",
              "1  2018-09-27  234.55  236.80  231.10  233.80  233.25               5082859   \n",
              "2  2018-09-26  240.00  240.00  232.50  235.00  234.25               2240909   \n",
              "3  2018-09-25  233.30  236.75  232.00  236.25  236.10               2349368   \n",
              "4  2018-09-24  233.55  239.20  230.75  234.00  233.30               3423509   \n",
              "\n",
              "   Turnover (Lacs)  \n",
              "0          7162.35  \n",
              "1         11859.95  \n",
              "2          5248.60  \n",
              "3          5503.90  \n",
              "4          7999.55  "
            ],
            "text/html": [
              "\n",
              "  <div id=\"df-9d7f426f-a88f-4839-a60c-20ec5e2f18ad\">\n",
              "    <div class=\"colab-df-container\">\n",
              "      <div>\n",
              "<style scoped>\n",
              "    .dataframe tbody tr th:only-of-type {\n",
              "        vertical-align: middle;\n",
              "    }\n",
              "\n",
              "    .dataframe tbody tr th {\n",
              "        vertical-align: top;\n",
              "    }\n",
              "\n",
              "    .dataframe thead th {\n",
              "        text-align: right;\n",
              "    }\n",
              "</style>\n",
              "<table border=\"1\" class=\"dataframe\">\n",
              "  <thead>\n",
              "    <tr style=\"text-align: right;\">\n",
              "      <th></th>\n",
              "      <th>Date</th>\n",
              "      <th>Open</th>\n",
              "      <th>High</th>\n",
              "      <th>Low</th>\n",
              "      <th>Last</th>\n",
              "      <th>Close</th>\n",
              "      <th>Total Trade Quantity</th>\n",
              "      <th>Turnover (Lacs)</th>\n",
              "    </tr>\n",
              "  </thead>\n",
              "  <tbody>\n",
              "    <tr>\n",
              "      <th>0</th>\n",
              "      <td>2018-09-28</td>\n",
              "      <td>234.05</td>\n",
              "      <td>235.95</td>\n",
              "      <td>230.20</td>\n",
              "      <td>233.50</td>\n",
              "      <td>233.75</td>\n",
              "      <td>3069914</td>\n",
              "      <td>7162.35</td>\n",
              "    </tr>\n",
              "    <tr>\n",
              "      <th>1</th>\n",
              "      <td>2018-09-27</td>\n",
              "      <td>234.55</td>\n",
              "      <td>236.80</td>\n",
              "      <td>231.10</td>\n",
              "      <td>233.80</td>\n",
              "      <td>233.25</td>\n",
              "      <td>5082859</td>\n",
              "      <td>11859.95</td>\n",
              "    </tr>\n",
              "    <tr>\n",
              "      <th>2</th>\n",
              "      <td>2018-09-26</td>\n",
              "      <td>240.00</td>\n",
              "      <td>240.00</td>\n",
              "      <td>232.50</td>\n",
              "      <td>235.00</td>\n",
              "      <td>234.25</td>\n",
              "      <td>2240909</td>\n",
              "      <td>5248.60</td>\n",
              "    </tr>\n",
              "    <tr>\n",
              "      <th>3</th>\n",
              "      <td>2018-09-25</td>\n",
              "      <td>233.30</td>\n",
              "      <td>236.75</td>\n",
              "      <td>232.00</td>\n",
              "      <td>236.25</td>\n",
              "      <td>236.10</td>\n",
              "      <td>2349368</td>\n",
              "      <td>5503.90</td>\n",
              "    </tr>\n",
              "    <tr>\n",
              "      <th>4</th>\n",
              "      <td>2018-09-24</td>\n",
              "      <td>233.55</td>\n",
              "      <td>239.20</td>\n",
              "      <td>230.75</td>\n",
              "      <td>234.00</td>\n",
              "      <td>233.30</td>\n",
              "      <td>3423509</td>\n",
              "      <td>7999.55</td>\n",
              "    </tr>\n",
              "  </tbody>\n",
              "</table>\n",
              "</div>\n",
              "      <button class=\"colab-df-convert\" onclick=\"convertToInteractive('df-9d7f426f-a88f-4839-a60c-20ec5e2f18ad')\"\n",
              "              title=\"Convert this dataframe to an interactive table.\"\n",
              "              style=\"display:none;\">\n",
              "        \n",
              "  <svg xmlns=\"http://www.w3.org/2000/svg\" height=\"24px\"viewBox=\"0 0 24 24\"\n",
              "       width=\"24px\">\n",
              "    <path d=\"M0 0h24v24H0V0z\" fill=\"none\"/>\n",
              "    <path d=\"M18.56 5.44l.94 2.06.94-2.06 2.06-.94-2.06-.94-.94-2.06-.94 2.06-2.06.94zm-11 1L8.5 8.5l.94-2.06 2.06-.94-2.06-.94L8.5 2.5l-.94 2.06-2.06.94zm10 10l.94 2.06.94-2.06 2.06-.94-2.06-.94-.94-2.06-.94 2.06-2.06.94z\"/><path d=\"M17.41 7.96l-1.37-1.37c-.4-.4-.92-.59-1.43-.59-.52 0-1.04.2-1.43.59L10.3 9.45l-7.72 7.72c-.78.78-.78 2.05 0 2.83L4 21.41c.39.39.9.59 1.41.59.51 0 1.02-.2 1.41-.59l7.78-7.78 2.81-2.81c.8-.78.8-2.07 0-2.86zM5.41 20L4 18.59l7.72-7.72 1.47 1.35L5.41 20z\"/>\n",
              "  </svg>\n",
              "      </button>\n",
              "      \n",
              "  <style>\n",
              "    .colab-df-container {\n",
              "      display:flex;\n",
              "      flex-wrap:wrap;\n",
              "      gap: 12px;\n",
              "    }\n",
              "\n",
              "    .colab-df-convert {\n",
              "      background-color: #E8F0FE;\n",
              "      border: none;\n",
              "      border-radius: 50%;\n",
              "      cursor: pointer;\n",
              "      display: none;\n",
              "      fill: #1967D2;\n",
              "      height: 32px;\n",
              "      padding: 0 0 0 0;\n",
              "      width: 32px;\n",
              "    }\n",
              "\n",
              "    .colab-df-convert:hover {\n",
              "      background-color: #E2EBFA;\n",
              "      box-shadow: 0px 1px 2px rgba(60, 64, 67, 0.3), 0px 1px 3px 1px rgba(60, 64, 67, 0.15);\n",
              "      fill: #174EA6;\n",
              "    }\n",
              "\n",
              "    [theme=dark] .colab-df-convert {\n",
              "      background-color: #3B4455;\n",
              "      fill: #D2E3FC;\n",
              "    }\n",
              "\n",
              "    [theme=dark] .colab-df-convert:hover {\n",
              "      background-color: #434B5C;\n",
              "      box-shadow: 0px 1px 3px 1px rgba(0, 0, 0, 0.15);\n",
              "      filter: drop-shadow(0px 1px 2px rgba(0, 0, 0, 0.3));\n",
              "      fill: #FFFFFF;\n",
              "    }\n",
              "  </style>\n",
              "\n",
              "      <script>\n",
              "        const buttonEl =\n",
              "          document.querySelector('#df-9d7f426f-a88f-4839-a60c-20ec5e2f18ad button.colab-df-convert');\n",
              "        buttonEl.style.display =\n",
              "          google.colab.kernel.accessAllowed ? 'block' : 'none';\n",
              "\n",
              "        async function convertToInteractive(key) {\n",
              "          const element = document.querySelector('#df-9d7f426f-a88f-4839-a60c-20ec5e2f18ad');\n",
              "          const dataTable =\n",
              "            await google.colab.kernel.invokeFunction('convertToInteractive',\n",
              "                                                     [key], {});\n",
              "          if (!dataTable) return;\n",
              "\n",
              "          const docLinkHtml = 'Like what you see? Visit the ' +\n",
              "            '<a target=\"_blank\" href=https://colab.research.google.com/notebooks/data_table.ipynb>data table notebook</a>'\n",
              "            + ' to learn more about interactive tables.';\n",
              "          element.innerHTML = '';\n",
              "          dataTable['output_type'] = 'display_data';\n",
              "          await google.colab.output.renderOutput(dataTable, element);\n",
              "          const docLink = document.createElement('div');\n",
              "          docLink.innerHTML = docLinkHtml;\n",
              "          element.appendChild(docLink);\n",
              "        }\n",
              "      </script>\n",
              "    </div>\n",
              "  </div>\n",
              "  "
            ]
          },
          "metadata": {},
          "execution_count": 2
        }
      ]
    },
    {
      "cell_type": "code",
      "source": [
        "close_data = train_dataset['Close']\n",
        "close_data"
      ],
      "metadata": {
        "colab": {
          "base_uri": "https://localhost:8080/"
        },
        "id": "4-N0Xz0YxP4K",
        "outputId": "aac44a1f-e91a-4d53-d881-5b3228cc5363"
      },
      "execution_count": 3,
      "outputs": [
        {
          "output_type": "execute_result",
          "data": {
            "text/plain": [
              "0       233.75\n",
              "1       233.25\n",
              "2       234.25\n",
              "3       236.10\n",
              "4       233.30\n",
              "         ...  \n",
              "2030    118.65\n",
              "2031    117.60\n",
              "2032    120.65\n",
              "2033    120.90\n",
              "2034    121.55\n",
              "Name: Close, Length: 2035, dtype: float64"
            ]
          },
          "metadata": {},
          "execution_count": 3
        }
      ]
    },
    {
      "cell_type": "code",
      "source": [
        "plt.plot(close_data)"
      ],
      "metadata": {
        "colab": {
          "base_uri": "https://localhost:8080/",
          "height": 282
        },
        "id": "UcYAM6VzyBQk",
        "outputId": "5051ebc0-a935-473d-8670-8527ad9f3acc"
      },
      "execution_count": 4,
      "outputs": [
        {
          "output_type": "execute_result",
          "data": {
            "text/plain": [
              "[<matplotlib.lines.Line2D at 0x7f1089e06390>]"
            ]
          },
          "metadata": {},
          "execution_count": 4
        },
        {
          "output_type": "display_data",
          "data": {
            "text/plain": [
              "<Figure size 432x288 with 1 Axes>"
            ],
            "image/png": "[encoded data removed]"
          },
          "metadata": {
            "needs_background": "light"
          }
        }
      ]
    },
    {
      "cell_type": "code",
      "source": [
        "from sklearn.preprocessing import MinMaxScaler\n",
        "scaler = MinMaxScaler(feature_range=(0,1))\n",
        "close_data = scaler.fit_transform(np.array(close_data).reshape(-1,1))\n",
        "close_data.shape"
      ],
      "metadata": {
        "colab": {
          "base_uri": "https://localhost:8080/"
        },
        "id": "OUBglNgRyDuD",
        "outputId": "f84fe179-2c98-429f-b355-a489effb0415"
      },
      "execution_count": 5,
      "outputs": [
        {
          "output_type": "execute_result",
          "data": {
            "text/plain": [
              "(2035, 1)"
            ]
          },
          "metadata": {},
          "execution_count": 5
        }
      ]
    },
    {
      "cell_type": "code",
      "source": [
        "print(close_data)"
      ],
      "metadata": {
        "colab": {
          "base_uri": "https://localhost:8080/"
        },
        "id": "dTwFJUACyEgv",
        "outputId": "f627a944-a7c6-4f40-c2b8-7f4fd7f3ad31"
      },
      "execution_count": 6,
      "outputs": [
        {
          "output_type": "stream",
          "name": "stdout",
          "text": [
            "[[0.62418301]\n",
            " [0.62214052]\n",
            " [0.62622549]\n",
            " ...\n",
            " [0.1621732 ]\n",
            " [0.16319444]\n",
            " [0.16584967]]\n"
          ]
        }
      ]
    },
    {
      "cell_type": "code",
      "source": [
        "train_size = int(len(close_data)*0.75)\n",
        "test_size = len(close_data) - train_size\n",
        "train_data,test_data = close_data[0:train_size,:],close_data[train_size:len(close_data),:1]"
      ],
      "metadata": {
        "id": "s409gwqoyqrN"
      },
      "execution_count": 7,
      "outputs": []
    },
    {
      "cell_type": "code",
      "source": [
        "def create_dataset(dataset,time_step = 1):\n",
        "    dataX,dataY = [],[]\n",
        "    for i in range(len(dataset) - time_step - 1):\n",
        "        a = dataset[i:(i+time_step),0]\n",
        "        dataX.append(a)\n",
        "        dataY.append(dataset[i+time_step,0])\n",
        "    return np.array(dataX), np.array(dataY)"
      ],
      "metadata": {
        "id": "mKAVhkT9yu82"
      },
      "execution_count": 8,
      "outputs": []
    },
    {
      "cell_type": "code",
      "source": [
        "time_step = 100\n",
        "x_train, y_train = create_dataset(train_data,time_step)\n",
        "x_test, y_test = create_dataset(test_data,time_step)"
      ],
      "metadata": {
        "id": "8fuYLCcLyupf"
      },
      "execution_count": 9,
      "outputs": []
    },
    {
      "cell_type": "code",
      "source": [
        "x_train = x_train.reshape(x_train.shape[0], x_train.shape[1], 1)\n",
        "x_test = x_test.reshape(x_test.shape[0], x_test.shape[1], 1)"
      ],
      "metadata": {
        "id": "1B7e5LEVy5LX"
      },
      "execution_count": 10,
      "outputs": []
    },
    {
      "cell_type": "code",
      "source": [
        "from keras.models import Sequential\n",
        "from keras.layers import LSTM\n",
        "from keras.layers import Dropout\n",
        "from keras.layers import Dense\n",
        "model = Sequential()\n",
        "model.add(LSTM(50, return_sequences = True, input_shape = (100,1)))\n",
        "model.add(LSTM(50, return_sequences = True))\n",
        "model.add(LSTM(50))\n",
        "model.add(Dense(1))\n",
        "model.compile(loss = 'mean_squared_error', optimizer = 'adam')\n",
        "model.summary()"
      ],
      "metadata": {
        "colab": {
          "base_uri": "https://localhost:8080/"
        },
        "id": "MjHyh3KKy9Ie",
        "outputId": "e8d25b08-b904-442f-a235-a3a5b828b689"
      },
      "execution_count": 11,
      "outputs": [
        {
          "output_type": "stream",
          "name": "stdout",
          "text": [
            "Model: \"sequential\"\n",
            "_________________________________________________________________\n",
            " Layer (type)                Output Shape              Param #   \n",
            "=================================================================\n",
            " lstm (LSTM)                 (None, 100, 50)           10400     \n",
            "                                                                 \n",
            " lstm_1 (LSTM)               (None, 100, 50)           20200     \n",
            "                                                                 \n",
            " lstm_2 (LSTM)               (None, 50)                20200     \n",
            "                                                                 \n",
            " dense (Dense)               (None, 1)                 51        \n",
            "                                                                 \n",
            "=================================================================\n",
            "Total params: 50,851\n",
            "Trainable params: 50,851\n",
            "Non-trainable params: 0\n",
            "_________________________________________________________________\n"
          ]
        }
      ]
    },
    {
      "cell_type": "code",
      "source": [
        "model.fit(x_train, y_train, validation_data=(x_test,y_test), epochs=100, batch_size=64, verbose=1)"
      ],
      "metadata": {
        "colab": {
          "base_uri": "https://localhost:8080/"
        },
        "id": "ubtDp1oLy_4l",
        "outputId": "44db512e-94c2-44d0-aff8-6a6537ddc967"
      },
      "execution_count": 12,
      "outputs": [
        {
          "output_type": "stream",
          "name": "stdout",
          "text": [
            "Epoch 1/100\n",
            "23/23 [==============================] - 11s 240ms/step - loss: 0.0157 - val_loss: 0.0026\n",
            "Epoch 2/100\n",
            "23/23 [==============================] - 4s 180ms/step - loss: 0.0021 - val_loss: 8.5675e-04\n",
            "Epoch 3/100\n",
            "23/23 [==============================] - 4s 184ms/step - loss: 0.0015 - val_loss: 8.9753e-04\n",
            "Epoch 4/100\n",
            "23/23 [==============================] - 4s 184ms/step - loss: 0.0015 - val_loss: 8.7115e-04\n",
            "Epoch 5/100\n",
            "23/23 [==============================] - 4s 184ms/step - loss: 0.0013 - val_loss: 7.8368e-04\n",
            "Epoch 6/100\n",
            "23/23 [==============================] - 4s 184ms/step - loss: 0.0013 - val_loss: 0.0011\n",
            "Epoch 7/100\n",
            "23/23 [==============================] - 4s 183ms/step - loss: 0.0012 - val_loss: 8.5295e-04\n",
            "Epoch 8/100\n",
            "23/23 [==============================] - 4s 181ms/step - loss: 0.0012 - val_loss: 7.8886e-04\n",
            "Epoch 9/100\n",
            "23/23 [==============================] - 4s 182ms/step - loss: 0.0013 - val_loss: 9.1314e-04\n",
            "Epoch 10/100\n",
            "23/23 [==============================] - 4s 182ms/step - loss: 0.0015 - val_loss: 0.0011\n",
            "Epoch 11/100\n",
            "23/23 [==============================] - 4s 183ms/step - loss: 0.0011 - val_loss: 0.0011\n",
            "Epoch 12/100\n",
            "23/23 [==============================] - 4s 184ms/step - loss: 9.3157e-04 - val_loss: 7.4284e-04\n",
            "Epoch 13/100\n",
            "23/23 [==============================] - 4s 186ms/step - loss: 9.2677e-04 - val_loss: 7.3202e-04\n",
            "Epoch 14/100\n",
            "23/23 [==============================] - 4s 186ms/step - loss: 8.5876e-04 - val_loss: 7.7464e-04\n",
            "Epoch 15/100\n",
            "23/23 [==============================] - 4s 184ms/step - loss: 8.4450e-04 - val_loss: 7.4747e-04\n",
            "Epoch 16/100\n",
            "23/23 [==============================] - 4s 186ms/step - loss: 8.8801e-04 - val_loss: 7.6393e-04\n",
            "Epoch 17/100\n",
            "23/23 [==============================] - 4s 184ms/step - loss: 8.0857e-04 - val_loss: 5.8439e-04\n",
            "Epoch 18/100\n",
            "23/23 [==============================] - 4s 186ms/step - loss: 8.5188e-04 - val_loss: 7.4254e-04\n",
            "Epoch 19/100\n",
            "23/23 [==============================] - 4s 183ms/step - loss: 7.3761e-04 - val_loss: 7.8937e-04\n",
            "Epoch 20/100\n",
            "23/23 [==============================] - 6s 257ms/step - loss: 7.0561e-04 - val_loss: 6.0281e-04\n",
            "Epoch 21/100\n",
            "23/23 [==============================] - 4s 184ms/step - loss: 7.6370e-04 - val_loss: 6.4671e-04\n",
            "Epoch 22/100\n",
            "23/23 [==============================] - 4s 184ms/step - loss: 6.8291e-04 - val_loss: 8.3361e-04\n",
            "Epoch 23/100\n",
            "23/23 [==============================] - 4s 185ms/step - loss: 7.0139e-04 - val_loss: 6.7178e-04\n",
            "Epoch 24/100\n",
            "23/23 [==============================] - 4s 181ms/step - loss: 6.5289e-04 - val_loss: 7.8138e-04\n",
            "Epoch 25/100\n",
            "23/23 [==============================] - 4s 184ms/step - loss: 6.6923e-04 - val_loss: 7.6389e-04\n",
            "Epoch 26/100\n",
            "23/23 [==============================] - 4s 182ms/step - loss: 6.4602e-04 - val_loss: 6.7730e-04\n",
            "Epoch 27/100\n",
            "23/23 [==============================] - 4s 180ms/step - loss: 6.4586e-04 - val_loss: 7.5102e-04\n",
            "Epoch 28/100\n",
            "23/23 [==============================] - 4s 180ms/step - loss: 6.0935e-04 - val_loss: 6.3298e-04\n",
            "Epoch 29/100\n",
            "23/23 [==============================] - 4s 179ms/step - loss: 5.8592e-04 - val_loss: 6.0344e-04\n",
            "Epoch 30/100\n",
            "23/23 [==============================] - 4s 181ms/step - loss: 5.6560e-04 - val_loss: 5.3990e-04\n",
            "Epoch 31/100\n",
            "23/23 [==============================] - 4s 177ms/step - loss: 5.5609e-04 - val_loss: 5.2769e-04\n",
            "Epoch 32/100\n",
            "23/23 [==============================] - 4s 179ms/step - loss: 5.5477e-04 - val_loss: 6.9821e-04\n",
            "Epoch 33/100\n",
            "23/23 [==============================] - 4s 180ms/step - loss: 5.3377e-04 - val_loss: 5.7953e-04\n",
            "Epoch 34/100\n",
            "23/23 [==============================] - 4s 179ms/step - loss: 5.2547e-04 - val_loss: 5.0392e-04\n",
            "Epoch 35/100\n",
            "23/23 [==============================] - 4s 182ms/step - loss: 5.0543e-04 - val_loss: 4.8512e-04\n",
            "Epoch 36/100\n",
            "23/23 [==============================] - 4s 179ms/step - loss: 5.1502e-04 - val_loss: 5.2066e-04\n",
            "Epoch 37/100\n",
            "23/23 [==============================] - 4s 177ms/step - loss: 5.3406e-04 - val_loss: 3.8435e-04\n",
            "Epoch 38/100\n",
            "23/23 [==============================] - 4s 178ms/step - loss: 4.9513e-04 - val_loss: 5.1604e-04\n",
            "Epoch 39/100\n",
            "23/23 [==============================] - 4s 177ms/step - loss: 5.0246e-04 - val_loss: 3.6370e-04\n",
            "Epoch 40/100\n",
            "23/23 [==============================] - 4s 182ms/step - loss: 4.8029e-04 - val_loss: 3.9076e-04\n",
            "Epoch 41/100\n",
            "23/23 [==============================] - 4s 182ms/step - loss: 4.5512e-04 - val_loss: 3.8610e-04\n",
            "Epoch 42/100\n",
            "23/23 [==============================] - 4s 181ms/step - loss: 4.8409e-04 - val_loss: 5.0312e-04\n",
            "Epoch 43/100\n",
            "23/23 [==============================] - 4s 182ms/step - loss: 4.3336e-04 - val_loss: 5.4727e-04\n",
            "Epoch 44/100\n",
            "23/23 [==============================] - 4s 184ms/step - loss: 4.4271e-04 - val_loss: 3.4661e-04\n",
            "Epoch 45/100\n",
            "23/23 [==============================] - 4s 176ms/step - loss: 5.0433e-04 - val_loss: 6.2460e-04\n",
            "Epoch 46/100\n",
            "23/23 [==============================] - 4s 177ms/step - loss: 4.6310e-04 - val_loss: 4.0951e-04\n",
            "Epoch 47/100\n",
            "23/23 [==============================] - 4s 180ms/step - loss: 4.3140e-04 - val_loss: 4.4826e-04\n",
            "Epoch 48/100\n",
            "23/23 [==============================] - 4s 185ms/step - loss: 3.9976e-04 - val_loss: 4.3939e-04\n",
            "Epoch 49/100\n",
            "23/23 [==============================] - 4s 181ms/step - loss: 3.9414e-04 - val_loss: 4.7388e-04\n",
            "Epoch 50/100\n",
            "23/23 [==============================] - 4s 183ms/step - loss: 4.5063e-04 - val_loss: 2.7466e-04\n",
            "Epoch 51/100\n",
            "23/23 [==============================] - 4s 177ms/step - loss: 4.8994e-04 - val_loss: 3.4979e-04\n",
            "Epoch 52/100\n",
            "23/23 [==============================] - 4s 190ms/step - loss: 4.9789e-04 - val_loss: 4.7928e-04\n",
            "Epoch 53/100\n",
            "23/23 [==============================] - 4s 186ms/step - loss: 3.4184e-04 - val_loss: 3.4355e-04\n",
            "Epoch 54/100\n",
            "23/23 [==============================] - 4s 182ms/step - loss: 3.2676e-04 - val_loss: 2.9853e-04\n",
            "Epoch 55/100\n",
            "23/23 [==============================] - 4s 183ms/step - loss: 3.5930e-04 - val_loss: 4.7251e-04\n",
            "Epoch 56/100\n",
            "23/23 [==============================] - 4s 185ms/step - loss: 3.7903e-04 - val_loss: 3.1570e-04\n",
            "Epoch 57/100\n",
            "23/23 [==============================] - 4s 188ms/step - loss: 3.1145e-04 - val_loss: 3.0799e-04\n",
            "Epoch 58/100\n",
            "23/23 [==============================] - 4s 183ms/step - loss: 3.7993e-04 - val_loss: 3.2890e-04\n",
            "Epoch 59/100\n",
            "23/23 [==============================] - 4s 181ms/step - loss: 3.3892e-04 - val_loss: 4.6295e-04\n",
            "Epoch 60/100\n",
            "23/23 [==============================] - 4s 181ms/step - loss: 3.8008e-04 - val_loss: 3.5113e-04\n",
            "Epoch 61/100\n",
            "23/23 [==============================] - 4s 184ms/step - loss: 3.1779e-04 - val_loss: 3.3817e-04\n",
            "Epoch 62/100\n",
            "23/23 [==============================] - 4s 183ms/step - loss: 2.9669e-04 - val_loss: 3.2133e-04\n",
            "Epoch 63/100\n",
            "23/23 [==============================] - 4s 185ms/step - loss: 3.3849e-04 - val_loss: 2.7999e-04\n",
            "Epoch 64/100\n",
            "23/23 [==============================] - 4s 188ms/step - loss: 2.7392e-04 - val_loss: 3.3430e-04\n",
            "Epoch 65/100\n",
            "23/23 [==============================] - 4s 190ms/step - loss: 2.8686e-04 - val_loss: 2.7347e-04\n",
            "Epoch 66/100\n",
            "23/23 [==============================] - 4s 191ms/step - loss: 2.9616e-04 - val_loss: 3.0493e-04\n",
            "Epoch 67/100\n",
            "23/23 [==============================] - 4s 191ms/step - loss: 2.4840e-04 - val_loss: 2.6596e-04\n",
            "Epoch 68/100\n",
            "23/23 [==============================] - 4s 187ms/step - loss: 2.6220e-04 - val_loss: 2.7289e-04\n",
            "Epoch 69/100\n",
            "23/23 [==============================] - 4s 192ms/step - loss: 2.5650e-04 - val_loss: 2.2737e-04\n",
            "Epoch 70/100\n",
            "23/23 [==============================] - 4s 196ms/step - loss: 2.6600e-04 - val_loss: 3.8950e-04\n",
            "Epoch 71/100\n",
            "23/23 [==============================] - 4s 185ms/step - loss: 2.8208e-04 - val_loss: 2.8905e-04\n",
            "Epoch 72/100\n",
            "23/23 [==============================] - 4s 187ms/step - loss: 2.5084e-04 - val_loss: 2.7112e-04\n",
            "Epoch 73/100\n",
            "23/23 [==============================] - 4s 186ms/step - loss: 2.3692e-04 - val_loss: 2.0459e-04\n",
            "Epoch 74/100\n",
            "23/23 [==============================] - 4s 184ms/step - loss: 2.5137e-04 - val_loss: 2.1841e-04\n",
            "Epoch 75/100\n",
            "23/23 [==============================] - 4s 188ms/step - loss: 2.8703e-04 - val_loss: 2.3820e-04\n",
            "Epoch 76/100\n",
            "23/23 [==============================] - 4s 196ms/step - loss: 2.4450e-04 - val_loss: 2.2811e-04\n",
            "Epoch 77/100\n",
            "23/23 [==============================] - 4s 188ms/step - loss: 2.3836e-04 - val_loss: 1.8486e-04\n",
            "Epoch 78/100\n",
            "23/23 [==============================] - 4s 191ms/step - loss: 2.5061e-04 - val_loss: 2.4446e-04\n",
            "Epoch 79/100\n",
            "23/23 [==============================] - 4s 186ms/step - loss: 2.8431e-04 - val_loss: 1.7435e-04\n",
            "Epoch 80/100\n",
            "23/23 [==============================] - 4s 186ms/step - loss: 2.2167e-04 - val_loss: 2.8486e-04\n",
            "Epoch 81/100\n",
            "23/23 [==============================] - 4s 186ms/step - loss: 2.3863e-04 - val_loss: 2.4876e-04\n",
            "Epoch 82/100\n",
            "23/23 [==============================] - 4s 186ms/step - loss: 2.2088e-04 - val_loss: 2.7128e-04\n",
            "Epoch 83/100\n",
            "23/23 [==============================] - 4s 182ms/step - loss: 2.2564e-04 - val_loss: 1.9065e-04\n",
            "Epoch 84/100\n",
            "23/23 [==============================] - 4s 183ms/step - loss: 2.2889e-04 - val_loss: 1.8845e-04\n",
            "Epoch 85/100\n",
            "23/23 [==============================] - 4s 192ms/step - loss: 2.2275e-04 - val_loss: 2.6212e-04\n",
            "Epoch 86/100\n",
            "23/23 [==============================] - 4s 184ms/step - loss: 3.0615e-04 - val_loss: 1.6944e-04\n",
            "Epoch 87/100\n",
            "23/23 [==============================] - 4s 194ms/step - loss: 2.4133e-04 - val_loss: 1.9902e-04\n",
            "Epoch 88/100\n",
            "23/23 [==============================] - 4s 184ms/step - loss: 2.2486e-04 - val_loss: 1.8736e-04\n",
            "Epoch 89/100\n",
            "23/23 [==============================] - 4s 186ms/step - loss: 2.8422e-04 - val_loss: 1.6174e-04\n",
            "Epoch 90/100\n",
            "23/23 [==============================] - 4s 185ms/step - loss: 2.9250e-04 - val_loss: 2.2365e-04\n",
            "Epoch 91/100\n",
            "23/23 [==============================] - 4s 186ms/step - loss: 2.2036e-04 - val_loss: 2.1677e-04\n",
            "Epoch 92/100\n",
            "23/23 [==============================] - 4s 192ms/step - loss: 2.1762e-04 - val_loss: 2.7429e-04\n",
            "Epoch 93/100\n",
            "23/23 [==============================] - 4s 184ms/step - loss: 2.0569e-04 - val_loss: 1.8876e-04\n",
            "Epoch 94/100\n",
            "23/23 [==============================] - 4s 191ms/step - loss: 2.1190e-04 - val_loss: 2.0131e-04\n",
            "Epoch 95/100\n",
            "23/23 [==============================] - 4s 189ms/step - loss: 2.2001e-04 - val_loss: 1.5319e-04\n",
            "Epoch 96/100\n",
            "23/23 [==============================] - 4s 186ms/step - loss: 2.9111e-04 - val_loss: 2.2747e-04\n",
            "Epoch 97/100\n",
            "23/23 [==============================] - 4s 187ms/step - loss: 2.0453e-04 - val_loss: 1.7699e-04\n",
            "Epoch 98/100\n",
            "23/23 [==============================] - 4s 190ms/step - loss: 2.0975e-04 - val_loss: 1.7874e-04\n",
            "Epoch 99/100\n",
            "23/23 [==============================] - 4s 185ms/step - loss: 2.1581e-04 - val_loss: 1.6478e-04\n",
            "Epoch 100/100\n",
            "23/23 [==============================] - 4s 187ms/step - loss: 2.2347e-04 - val_loss: 2.1868e-04\n"
          ]
        },
        {
          "output_type": "execute_result",
          "data": {
            "text/plain": [
              "<keras.callbacks.History at 0x7f107d679790>"
            ]
          },
          "metadata": {},
          "execution_count": 12
        }
      ]
    },
    {
      "cell_type": "code",
      "source": [
        "train_predict = model.predict(x_train)\n",
        "test_predict = model.predict(x_test)"
      ],
      "metadata": {
        "id": "CyimXN_E0xsA"
      },
      "execution_count": 13,
      "outputs": []
    },
    {
      "cell_type": "code",
      "source": [
        "train_predict = scaler.inverse_transform(train_predict)\n",
        "test_predict = scaler.inverse_transform(test_predict)"
      ],
      "metadata": {
        "id": "ocNeRhMZ01l-"
      },
      "execution_count": 14,
      "outputs": []
    },
    {
      "cell_type": "code",
      "source": [
        "from sklearn.metrics import mean_squared_error\n",
        "math.sqrt(mean_squared_error(y_train, train_predict))"
      ],
      "metadata": {
        "colab": {
          "base_uri": "https://localhost:8080/"
        },
        "id": "sKqk9vla1FQB",
        "outputId": "751b6f52-315b-4d6b-c38b-68a1505ae84f"
      },
      "execution_count": 15,
      "outputs": [
        {
          "output_type": "execute_result",
          "data": {
            "text/plain": [
              "164.73304919790408"
            ]
          },
          "metadata": {},
          "execution_count": 15
        }
      ]
    },
    {
      "cell_type": "code",
      "source": [
        "165.87076791352783\n",
        "math.sqrt(mean_squared_error(y_test, test_predict))"
      ],
      "metadata": {
        "colab": {
          "base_uri": "https://localhost:8080/"
        },
        "id": "FdHicUeA1I9h",
        "outputId": "82a9ca3b-f3c7-4864-a734-82dbdd1bdc75"
      },
      "execution_count": 16,
      "outputs": [
        {
          "output_type": "execute_result",
          "data": {
            "text/plain": [
              "106.43983896203318"
            ]
          },
          "metadata": {},
          "execution_count": 16
        }
      ]
    },
    {
      "cell_type": "code",
      "source": [
        "look_back = 100\n",
        "trainPredictPlot = np.empty_like(close_data)\n",
        "trainPredictPlot[:,:] = np.nan\n",
        "trainPredictPlot[look_back:len(train_predict) + look_back, :] = train_predict\n",
        "testPredictPlot = np.empty_like(close_data)\n",
        "testPredictPlot[:,:] = np.nan\n",
        "testPredictPlot[len(train_predict) + (look_back*2)+1:len(close_data)-1 ,:] = test_predict\n",
        "plt.plot(scaler.inverse_transform(close_data))\n",
        "plt.plot(trainPredictPlot)\n",
        "plt.plot(testPredictPlot)\n",
        "plt.show()"
      ],
      "metadata": {
        "colab": {
          "base_uri": "https://localhost:8080/",
          "height": 265
        },
        "id": "QDwZsSbX1Obj",
        "outputId": "090f27ba-19e2-480c-e551-81c07c90effb"
      },
      "execution_count": 17,
      "outputs": [
        {
          "output_type": "display_data",
          "data": {
            "text/plain": [
              "<Figure size 432x288 with 1 Axes>"
            ],
            "image/png": "[encoded data removed]"
          },
          "metadata": {
            "needs_background": "light"
          }
        }
      ]
    },
    {
      "cell_type": "code",
      "source": [
        "len(test_data),x_test.shape"
      ],
      "metadata": {
        "colab": {
          "base_uri": "https://localhost:8080/"
        },
        "id": "fY8ymPS-1RRT",
        "outputId": "00f76d20-f21b-4f58-9eee-f8c0a30fa355"
      },
      "execution_count": 18,
      "outputs": [
        {
          "output_type": "execute_result",
          "data": {
            "text/plain": [
              "(509, (408, 100, 1))"
            ]
          },
          "metadata": {},
          "execution_count": 18
        }
      ]
    },
    {
      "cell_type": "code",
      "source": [
        "x_input = test_data[409:].reshape(1,-1)\n",
        "x_input.shape"
      ],
      "metadata": {
        "colab": {
          "base_uri": "https://localhost:8080/"
        },
        "id": "U2_p-Ln51TVa",
        "outputId": "bb96473e-ad7d-4a5e-cab2-a3175e58378e"
      },
      "execution_count": 19,
      "outputs": [
        {
          "output_type": "execute_result",
          "data": {
            "text/plain": [
              "(1, 100)"
            ]
          },
          "metadata": {},
          "execution_count": 19
        }
      ]
    },
    {
      "cell_type": "code",
      "source": [
        "temp_input = list(x_input)\n",
        "temp_input = temp_input[0].tolist()"
      ],
      "metadata": {
        "id": "McXjbRUd1VnS"
      },
      "execution_count": 20,
      "outputs": []
    },
    {
      "cell_type": "code",
      "source": [
        "list_out = []\n",
        "n_steps = 100\n",
        "days = 30\n",
        "i = 0\n",
        "while(i<days):\n",
        "    if(len(temp_input)>100):\n",
        "        x_input=np.array(temp_input[1:])\n",
        "        print(\"{} day input {}\".format(i,x_input))\n",
        "        x_input=x_input.reshape(1,-1)\n",
        "        x_input=x_input.reshape((1,n_steps,1))\n",
        "        yhat = model.predict(x_input,verbose=0)\n",
        "        print(\"{} day input {}\".format(i,yhat))\n",
        "        temp_input.extend(yhat[0].tolist())\n",
        "        temp_input=temp_input[1:]\n",
        "        list_out.extend(yhat.tolist())\n",
        "        i=i+1\n",
        "    else:\n",
        "        x_input=x_input.reshape((1,n_steps,1))\n",
        "        yhat = model.predict(x_input,verbose=0)\n",
        "        print(yhat[0])\n",
        "        temp_input.extend(yhat[0].tolist())\n",
        "        list_out.extend(yhat.tolist())\n",
        "        i=i+1"
      ],
      "metadata": {
        "colab": {
          "base_uri": "https://localhost:8080/"
        },
        "id": "2Zd-4xfL1ZUn",
        "outputId": "a8f74fdb-c45b-46e8-9ed4-3e395eda7f29"
      },
      "execution_count": 27,
      "outputs": [
        {
          "output_type": "stream",
          "name": "stdout",
          "text": [
            "0 day input [0.17034314 0.16830065 0.17279412 0.17544935 0.18382353 0.19138072\n",
            " 0.18913399 0.19097222 0.17238562 0.16830065 0.1693219  0.17177288\n",
            " 0.16156046 0.14971405 0.1503268  0.15196078 0.14726307 0.14501634\n",
            " 0.14603758 0.12479575 0.13112745 0.11397059 0.1190768  0.12377451\n",
            " 0.13562092 0.12908497 0.13459967 0.12806373 0.13031046 0.12724673\n",
            " 0.13521242 0.14522059 0.15257353 0.14848856 0.14338235 0.14562908\n",
            " 0.15236928 0.15400327 0.14971405 0.1621732  0.16319444 0.16584967\n",
            " 0.17055576 0.17414144 0.17772354 0.18122885 0.18463549 0.18794926\n",
            " 0.19118315 0.19435011 0.19746119 0.20052478 0.20354691 0.20653139\n",
            " 0.20948058 0.21239571 0.21527766 0.21812706 0.22094476 0.2237318\n",
            " 0.22648937 0.229219   0.23192236 0.23460099 0.23725668 0.23989093\n",
            " 0.24250503 0.24510053 0.24767841 0.25023967 0.25278524 0.2553159\n",
            " 0.25783244 0.26033553 0.26282564 0.26530349 0.26776955 0.27022436\n",
            " 0.27266848 0.27510238 0.2775265  0.27994132 0.28234744 0.28474525\n",
            " 0.28713518 0.28951779 0.29189357 0.29426289 0.29662615 0.29898399\n",
            " 0.30133668 0.30368492 0.30602896 0.30836943 0.31070673 0.31304136\n",
            " 0.31537378 0.31770447 0.320034   0.32236275]\n",
            "0 day input [[0.32469118]]\n",
            "1 day input [0.16830065 0.17279412 0.17544935 0.18382353 0.19138072 0.18913399\n",
            " 0.19097222 0.17238562 0.16830065 0.1693219  0.17177288 0.16156046\n",
            " 0.14971405 0.1503268  0.15196078 0.14726307 0.14501634 0.14603758\n",
            " 0.12479575 0.13112745 0.11397059 0.1190768  0.12377451 0.13562092\n",
            " 0.12908497 0.13459967 0.12806373 0.13031046 0.12724673 0.13521242\n",
            " 0.14522059 0.15257353 0.14848856 0.14338235 0.14562908 0.15236928\n",
            " 0.15400327 0.14971405 0.1621732  0.16319444 0.16584967 0.17055576\n",
            " 0.17414144 0.17772354 0.18122885 0.18463549 0.18794926 0.19118315\n",
            " 0.19435011 0.19746119 0.20052478 0.20354691 0.20653139 0.20948058\n",
            " 0.21239571 0.21527766 0.21812706 0.22094476 0.2237318  0.22648937\n",
            " 0.229219   0.23192236 0.23460099 0.23725668 0.23989093 0.24250503\n",
            " 0.24510053 0.24767841 0.25023967 0.25278524 0.2553159  0.25783244\n",
            " 0.26033553 0.26282564 0.26530349 0.26776955 0.27022436 0.27266848\n",
            " 0.27510238 0.2775265  0.27994132 0.28234744 0.28474525 0.28713518\n",
            " 0.28951779 0.29189357 0.29426289 0.29662615 0.29898399 0.30133668\n",
            " 0.30368492 0.30602896 0.30836943 0.31070673 0.31304136 0.31537378\n",
            " 0.31770447 0.320034   0.32236275 0.32469118]\n",
            "1 day input [[0.32701996]]\n",
            "2 day input [0.17279412 0.17544935 0.18382353 0.19138072 0.18913399 0.19097222\n",
            " 0.17238562 0.16830065 0.1693219  0.17177288 0.16156046 0.14971405\n",
            " 0.1503268  0.15196078 0.14726307 0.14501634 0.14603758 0.12479575\n",
            " 0.13112745 0.11397059 0.1190768  0.12377451 0.13562092 0.12908497\n",
            " 0.13459967 0.12806373 0.13031046 0.12724673 0.13521242 0.14522059\n",
            " 0.15257353 0.14848856 0.14338235 0.14562908 0.15236928 0.15400327\n",
            " 0.14971405 0.1621732  0.16319444 0.16584967 0.17055576 0.17414144\n",
            " 0.17772354 0.18122885 0.18463549 0.18794926 0.19118315 0.19435011\n",
            " 0.19746119 0.20052478 0.20354691 0.20653139 0.20948058 0.21239571\n",
            " 0.21527766 0.21812706 0.22094476 0.2237318  0.22648937 0.229219\n",
            " 0.23192236 0.23460099 0.23725668 0.23989093 0.24250503 0.24510053\n",
            " 0.24767841 0.25023967 0.25278524 0.2553159  0.25783244 0.26033553\n",
            " 0.26282564 0.26530349 0.26776955 0.27022436 0.27266848 0.27510238\n",
            " 0.2775265  0.27994132 0.28234744 0.28474525 0.28713518 0.28951779\n",
            " 0.29189357 0.29426289 0.29662615 0.29898399 0.30133668 0.30368492\n",
            " 0.30602896 0.30836943 0.31070673 0.31304136 0.31537378 0.31770447\n",
            " 0.320034   0.32236275 0.32469118 0.32701996]\n",
            "2 day input [[0.32934937]]\n",
            "3 day input [0.17544935 0.18382353 0.19138072 0.18913399 0.19097222 0.17238562\n",
            " 0.16830065 0.1693219  0.17177288 0.16156046 0.14971405 0.1503268\n",
            " 0.15196078 0.14726307 0.14501634 0.14603758 0.12479575 0.13112745\n",
            " 0.11397059 0.1190768  0.12377451 0.13562092 0.12908497 0.13459967\n",
            " 0.12806373 0.13031046 0.12724673 0.13521242 0.14522059 0.15257353\n",
            " 0.14848856 0.14338235 0.14562908 0.15236928 0.15400327 0.14971405\n",
            " 0.1621732  0.16319444 0.16584967 0.17055576 0.17414144 0.17772354\n",
            " 0.18122885 0.18463549 0.18794926 0.19118315 0.19435011 0.19746119\n",
            " 0.20052478 0.20354691 0.20653139 0.20948058 0.21239571 0.21527766\n",
            " 0.21812706 0.22094476 0.2237318  0.22648937 0.229219   0.23192236\n",
            " 0.23460099 0.23725668 0.23989093 0.24250503 0.24510053 0.24767841\n",
            " 0.25023967 0.25278524 0.2553159  0.25783244 0.26033553 0.26282564\n",
            " 0.26530349 0.26776955 0.27022436 0.27266848 0.27510238 0.2775265\n",
            " 0.27994132 0.28234744 0.28474525 0.28713518 0.28951779 0.29189357\n",
            " 0.29426289 0.29662615 0.29898399 0.30133668 0.30368492 0.30602896\n",
            " 0.30836943 0.31070673 0.31304136 0.31537378 0.31770447 0.320034\n",
            " 0.32236275 0.32469118 0.32701996 0.32934937]\n",
            "3 day input [[0.3316801]]\n",
            "4 day input [0.18382353 0.19138072 0.18913399 0.19097222 0.17238562 0.16830065\n",
            " 0.1693219  0.17177288 0.16156046 0.14971405 0.1503268  0.15196078\n",
            " 0.14726307 0.14501634 0.14603758 0.12479575 0.13112745 0.11397059\n",
            " 0.1190768  0.12377451 0.13562092 0.12908497 0.13459967 0.12806373\n",
            " 0.13031046 0.12724673 0.13521242 0.14522059 0.15257353 0.14848856\n",
            " 0.14338235 0.14562908 0.15236928 0.15400327 0.14971405 0.1621732\n",
            " 0.16319444 0.16584967 0.17055576 0.17414144 0.17772354 0.18122885\n",
            " 0.18463549 0.18794926 0.19118315 0.19435011 0.19746119 0.20052478\n",
            " 0.20354691 0.20653139 0.20948058 0.21239571 0.21527766 0.21812706\n",
            " 0.22094476 0.2237318  0.22648937 0.229219   0.23192236 0.23460099\n",
            " 0.23725668 0.23989093 0.24250503 0.24510053 0.24767841 0.25023967\n",
            " 0.25278524 0.2553159  0.25783244 0.26033553 0.26282564 0.26530349\n",
            " 0.26776955 0.27022436 0.27266848 0.27510238 0.2775265  0.27994132\n",
            " 0.28234744 0.28474525 0.28713518 0.28951779 0.29189357 0.29426289\n",
            " 0.29662615 0.29898399 0.30133668 0.30368492 0.30602896 0.30836943\n",
            " 0.31070673 0.31304136 0.31537378 0.31770447 0.320034   0.32236275\n",
            " 0.32469118 0.32701996 0.32934937 0.33168009]\n",
            "4 day input [[0.3340124]]\n",
            "5 day input [0.19138072 0.18913399 0.19097222 0.17238562 0.16830065 0.1693219\n",
            " 0.17177288 0.16156046 0.14971405 0.1503268  0.15196078 0.14726307\n",
            " 0.14501634 0.14603758 0.12479575 0.13112745 0.11397059 0.1190768\n",
            " 0.12377451 0.13562092 0.12908497 0.13459967 0.12806373 0.13031046\n",
            " 0.12724673 0.13521242 0.14522059 0.15257353 0.14848856 0.14338235\n",
            " 0.14562908 0.15236928 0.15400327 0.14971405 0.1621732  0.16319444\n",
            " 0.16584967 0.17055576 0.17414144 0.17772354 0.18122885 0.18463549\n",
            " 0.18794926 0.19118315 0.19435011 0.19746119 0.20052478 0.20354691\n",
            " 0.20653139 0.20948058 0.21239571 0.21527766 0.21812706 0.22094476\n",
            " 0.2237318  0.22648937 0.229219   0.23192236 0.23460099 0.23725668\n",
            " 0.23989093 0.24250503 0.24510053 0.24767841 0.25023967 0.25278524\n",
            " 0.2553159  0.25783244 0.26033553 0.26282564 0.26530349 0.26776955\n",
            " 0.27022436 0.27266848 0.27510238 0.2775265  0.27994132 0.28234744\n",
            " 0.28474525 0.28713518 0.28951779 0.29189357 0.29426289 0.29662615\n",
            " 0.29898399 0.30133668 0.30368492 0.30602896 0.30836943 0.31070673\n",
            " 0.31304136 0.31537378 0.31770447 0.320034   0.32236275 0.32469118\n",
            " 0.32701996 0.32934937 0.33168009 0.33401239]\n",
            "5 day input [[0.33634698]]\n",
            "6 day input [0.18913399 0.19097222 0.17238562 0.16830065 0.1693219  0.17177288\n",
            " 0.16156046 0.14971405 0.1503268  0.15196078 0.14726307 0.14501634\n",
            " 0.14603758 0.12479575 0.13112745 0.11397059 0.1190768  0.12377451\n",
            " 0.13562092 0.12908497 0.13459967 0.12806373 0.13031046 0.12724673\n",
            " 0.13521242 0.14522059 0.15257353 0.14848856 0.14338235 0.14562908\n",
            " 0.15236928 0.15400327 0.14971405 0.1621732  0.16319444 0.16584967\n",
            " 0.17055576 0.17414144 0.17772354 0.18122885 0.18463549 0.18794926\n",
            " 0.19118315 0.19435011 0.19746119 0.20052478 0.20354691 0.20653139\n",
            " 0.20948058 0.21239571 0.21527766 0.21812706 0.22094476 0.2237318\n",
            " 0.22648937 0.229219   0.23192236 0.23460099 0.23725668 0.23989093\n",
            " 0.24250503 0.24510053 0.24767841 0.25023967 0.25278524 0.2553159\n",
            " 0.25783244 0.26033553 0.26282564 0.26530349 0.26776955 0.27022436\n",
            " 0.27266848 0.27510238 0.2775265  0.27994132 0.28234744 0.28474525\n",
            " 0.28713518 0.28951779 0.29189357 0.29426289 0.29662615 0.29898399\n",
            " 0.30133668 0.30368492 0.30602896 0.30836943 0.31070673 0.31304136\n",
            " 0.31537378 0.31770447 0.320034   0.32236275 0.32469118 0.32701996\n",
            " 0.32934937 0.33168009 0.33401239 0.33634698]\n",
            "6 day input [[0.3386843]]\n",
            "7 day input [0.19097222 0.17238562 0.16830065 0.1693219  0.17177288 0.16156046\n",
            " 0.14971405 0.1503268  0.15196078 0.14726307 0.14501634 0.14603758\n",
            " 0.12479575 0.13112745 0.11397059 0.1190768  0.12377451 0.13562092\n",
            " 0.12908497 0.13459967 0.12806373 0.13031046 0.12724673 0.13521242\n",
            " 0.14522059 0.15257353 0.14848856 0.14338235 0.14562908 0.15236928\n",
            " 0.15400327 0.14971405 0.1621732  0.16319444 0.16584967 0.17055576\n",
            " 0.17414144 0.17772354 0.18122885 0.18463549 0.18794926 0.19118315\n",
            " 0.19435011 0.19746119 0.20052478 0.20354691 0.20653139 0.20948058\n",
            " 0.21239571 0.21527766 0.21812706 0.22094476 0.2237318  0.22648937\n",
            " 0.229219   0.23192236 0.23460099 0.23725668 0.23989093 0.24250503\n",
            " 0.24510053 0.24767841 0.25023967 0.25278524 0.2553159  0.25783244\n",
            " 0.26033553 0.26282564 0.26530349 0.26776955 0.27022436 0.27266848\n",
            " 0.27510238 0.2775265  0.27994132 0.28234744 0.28474525 0.28713518\n",
            " 0.28951779 0.29189357 0.29426289 0.29662615 0.29898399 0.30133668\n",
            " 0.30368492 0.30602896 0.30836943 0.31070673 0.31304136 0.31537378\n",
            " 0.31770447 0.320034   0.32236275 0.32469118 0.32701996 0.32934937\n",
            " 0.33168009 0.33401239 0.33634698 0.33868429]\n",
            "7 day input [[0.34102476]]\n",
            "8 day input [0.17238562 0.16830065 0.1693219  0.17177288 0.16156046 0.14971405\n",
            " 0.1503268  0.15196078 0.14726307 0.14501634 0.14603758 0.12479575\n",
            " 0.13112745 0.11397059 0.1190768  0.12377451 0.13562092 0.12908497\n",
            " 0.13459967 0.12806373 0.13031046 0.12724673 0.13521242 0.14522059\n",
            " 0.15257353 0.14848856 0.14338235 0.14562908 0.15236928 0.15400327\n",
            " 0.14971405 0.1621732  0.16319444 0.16584967 0.17055576 0.17414144\n",
            " 0.17772354 0.18122885 0.18463549 0.18794926 0.19118315 0.19435011\n",
            " 0.19746119 0.20052478 0.20354691 0.20653139 0.20948058 0.21239571\n",
            " 0.21527766 0.21812706 0.22094476 0.2237318  0.22648937 0.229219\n",
            " 0.23192236 0.23460099 0.23725668 0.23989093 0.24250503 0.24510053\n",
            " 0.24767841 0.25023967 0.25278524 0.2553159  0.25783244 0.26033553\n",
            " 0.26282564 0.26530349 0.26776955 0.27022436 0.27266848 0.27510238\n",
            " 0.2775265  0.27994132 0.28234744 0.28474525 0.28713518 0.28951779\n",
            " 0.29189357 0.29426289 0.29662615 0.29898399 0.30133668 0.30368492\n",
            " 0.30602896 0.30836943 0.31070673 0.31304136 0.31537378 0.31770447\n",
            " 0.320034   0.32236275 0.32469118 0.32701996 0.32934937 0.33168009\n",
            " 0.33401239 0.33634698 0.33868429 0.34102476]\n",
            "8 day input [[0.34336907]]\n",
            "9 day input [0.16830065 0.1693219  0.17177288 0.16156046 0.14971405 0.1503268\n",
            " 0.15196078 0.14726307 0.14501634 0.14603758 0.12479575 0.13112745\n",
            " 0.11397059 0.1190768  0.12377451 0.13562092 0.12908497 0.13459967\n",
            " 0.12806373 0.13031046 0.12724673 0.13521242 0.14522059 0.15257353\n",
            " 0.14848856 0.14338235 0.14562908 0.15236928 0.15400327 0.14971405\n",
            " 0.1621732  0.16319444 0.16584967 0.17055576 0.17414144 0.17772354\n",
            " 0.18122885 0.18463549 0.18794926 0.19118315 0.19435011 0.19746119\n",
            " 0.20052478 0.20354691 0.20653139 0.20948058 0.21239571 0.21527766\n",
            " 0.21812706 0.22094476 0.2237318  0.22648937 0.229219   0.23192236\n",
            " 0.23460099 0.23725668 0.23989093 0.24250503 0.24510053 0.24767841\n",
            " 0.25023967 0.25278524 0.2553159  0.25783244 0.26033553 0.26282564\n",
            " 0.26530349 0.26776955 0.27022436 0.27266848 0.27510238 0.2775265\n",
            " 0.27994132 0.28234744 0.28474525 0.28713518 0.28951779 0.29189357\n",
            " 0.29426289 0.29662615 0.29898399 0.30133668 0.30368492 0.30602896\n",
            " 0.30836943 0.31070673 0.31304136 0.31537378 0.31770447 0.320034\n",
            " 0.32236275 0.32469118 0.32701996 0.32934937 0.33168009 0.33401239\n",
            " 0.33634698 0.33868429 0.34102476 0.34336907]\n",
            "9 day input [[0.34571767]]\n",
            "10 day input [0.1693219  0.17177288 0.16156046 0.14971405 0.1503268  0.15196078\n",
            " 0.14726307 0.14501634 0.14603758 0.12479575 0.13112745 0.11397059\n",
            " 0.1190768  0.12377451 0.13562092 0.12908497 0.13459967 0.12806373\n",
            " 0.13031046 0.12724673 0.13521242 0.14522059 0.15257353 0.14848856\n",
            " 0.14338235 0.14562908 0.15236928 0.15400327 0.14971405 0.1621732\n",
            " 0.16319444 0.16584967 0.17055576 0.17414144 0.17772354 0.18122885\n",
            " 0.18463549 0.18794926 0.19118315 0.19435011 0.19746119 0.20052478\n",
            " 0.20354691 0.20653139 0.20948058 0.21239571 0.21527766 0.21812706\n",
            " 0.22094476 0.2237318  0.22648937 0.229219   0.23192236 0.23460099\n",
            " 0.23725668 0.23989093 0.24250503 0.24510053 0.24767841 0.25023967\n",
            " 0.25278524 0.2553159  0.25783244 0.26033553 0.26282564 0.26530349\n",
            " 0.26776955 0.27022436 0.27266848 0.27510238 0.2775265  0.27994132\n",
            " 0.28234744 0.28474525 0.28713518 0.28951779 0.29189357 0.29426289\n",
            " 0.29662615 0.29898399 0.30133668 0.30368492 0.30602896 0.30836943\n",
            " 0.31070673 0.31304136 0.31537378 0.31770447 0.320034   0.32236275\n",
            " 0.32469118 0.32701996 0.32934937 0.33168009 0.33401239 0.33634698\n",
            " 0.33868429 0.34102476 0.34336907 0.34571767]\n",
            "10 day input [[0.34807086]]\n",
            "11 day input [0.17177288 0.16156046 0.14971405 0.1503268  0.15196078 0.14726307\n",
            " 0.14501634 0.14603758 0.12479575 0.13112745 0.11397059 0.1190768\n",
            " 0.12377451 0.13562092 0.12908497 0.13459967 0.12806373 0.13031046\n",
            " 0.12724673 0.13521242 0.14522059 0.15257353 0.14848856 0.14338235\n",
            " 0.14562908 0.15236928 0.15400327 0.14971405 0.1621732  0.16319444\n",
            " 0.16584967 0.17055576 0.17414144 0.17772354 0.18122885 0.18463549\n",
            " 0.18794926 0.19118315 0.19435011 0.19746119 0.20052478 0.20354691\n",
            " 0.20653139 0.20948058 0.21239571 0.21527766 0.21812706 0.22094476\n",
            " 0.2237318  0.22648937 0.229219   0.23192236 0.23460099 0.23725668\n",
            " 0.23989093 0.24250503 0.24510053 0.24767841 0.25023967 0.25278524\n",
            " 0.2553159  0.25783244 0.26033553 0.26282564 0.26530349 0.26776955\n",
            " 0.27022436 0.27266848 0.27510238 0.2775265  0.27994132 0.28234744\n",
            " 0.28474525 0.28713518 0.28951779 0.29189357 0.29426289 0.29662615\n",
            " 0.29898399 0.30133668 0.30368492 0.30602896 0.30836943 0.31070673\n",
            " 0.31304136 0.31537378 0.31770447 0.320034   0.32236275 0.32469118\n",
            " 0.32701996 0.32934937 0.33168009 0.33401239 0.33634698 0.33868429\n",
            " 0.34102476 0.34336907 0.34571767 0.34807086]\n",
            "11 day input [[0.35042942]]\n",
            "12 day input [0.16156046 0.14971405 0.1503268  0.15196078 0.14726307 0.14501634\n",
            " 0.14603758 0.12479575 0.13112745 0.11397059 0.1190768  0.12377451\n",
            " 0.13562092 0.12908497 0.13459967 0.12806373 0.13031046 0.12724673\n",
            " 0.13521242 0.14522059 0.15257353 0.14848856 0.14338235 0.14562908\n",
            " 0.15236928 0.15400327 0.14971405 0.1621732  0.16319444 0.16584967\n",
            " 0.17055576 0.17414144 0.17772354 0.18122885 0.18463549 0.18794926\n",
            " 0.19118315 0.19435011 0.19746119 0.20052478 0.20354691 0.20653139\n",
            " 0.20948058 0.21239571 0.21527766 0.21812706 0.22094476 0.2237318\n",
            " 0.22648937 0.229219   0.23192236 0.23460099 0.23725668 0.23989093\n",
            " 0.24250503 0.24510053 0.24767841 0.25023967 0.25278524 0.2553159\n",
            " 0.25783244 0.26033553 0.26282564 0.26530349 0.26776955 0.27022436\n",
            " 0.27266848 0.27510238 0.2775265  0.27994132 0.28234744 0.28474525\n",
            " 0.28713518 0.28951779 0.29189357 0.29426289 0.29662615 0.29898399\n",
            " 0.30133668 0.30368492 0.30602896 0.30836943 0.31070673 0.31304136\n",
            " 0.31537378 0.31770447 0.320034   0.32236275 0.32469118 0.32701996\n",
            " 0.32934937 0.33168009 0.33401239 0.33634698 0.33868429 0.34102476\n",
            " 0.34336907 0.34571767 0.34807086 0.35042942]\n",
            "12 day input [[0.35279375]]\n",
            "13 day input [0.14971405 0.1503268  0.15196078 0.14726307 0.14501634 0.14603758\n",
            " 0.12479575 0.13112745 0.11397059 0.1190768  0.12377451 0.13562092\n",
            " 0.12908497 0.13459967 0.12806373 0.13031046 0.12724673 0.13521242\n",
            " 0.14522059 0.15257353 0.14848856 0.14338235 0.14562908 0.15236928\n",
            " 0.15400327 0.14971405 0.1621732  0.16319444 0.16584967 0.17055576\n",
            " 0.17414144 0.17772354 0.18122885 0.18463549 0.18794926 0.19118315\n",
            " 0.19435011 0.19746119 0.20052478 0.20354691 0.20653139 0.20948058\n",
            " 0.21239571 0.21527766 0.21812706 0.22094476 0.2237318  0.22648937\n",
            " 0.229219   0.23192236 0.23460099 0.23725668 0.23989093 0.24250503\n",
            " 0.24510053 0.24767841 0.25023967 0.25278524 0.2553159  0.25783244\n",
            " 0.26033553 0.26282564 0.26530349 0.26776955 0.27022436 0.27266848\n",
            " 0.27510238 0.2775265  0.27994132 0.28234744 0.28474525 0.28713518\n",
            " 0.28951779 0.29189357 0.29426289 0.29662615 0.29898399 0.30133668\n",
            " 0.30368492 0.30602896 0.30836943 0.31070673 0.31304136 0.31537378\n",
            " 0.31770447 0.320034   0.32236275 0.32469118 0.32701996 0.32934937\n",
            " 0.33168009 0.33401239 0.33634698 0.33868429 0.34102476 0.34336907\n",
            " 0.34571767 0.34807086 0.35042942 0.35279375]\n",
            "13 day input [[0.35516435]]\n",
            "14 day input [0.1503268  0.15196078 0.14726307 0.14501634 0.14603758 0.12479575\n",
            " 0.13112745 0.11397059 0.1190768  0.12377451 0.13562092 0.12908497\n",
            " 0.13459967 0.12806373 0.13031046 0.12724673 0.13521242 0.14522059\n",
            " 0.15257353 0.14848856 0.14338235 0.14562908 0.15236928 0.15400327\n",
            " 0.14971405 0.1621732  0.16319444 0.16584967 0.17055576 0.17414144\n",
            " 0.17772354 0.18122885 0.18463549 0.18794926 0.19118315 0.19435011\n",
            " 0.19746119 0.20052478 0.20354691 0.20653139 0.20948058 0.21239571\n",
            " 0.21527766 0.21812706 0.22094476 0.2237318  0.22648937 0.229219\n",
            " 0.23192236 0.23460099 0.23725668 0.23989093 0.24250503 0.24510053\n",
            " 0.24767841 0.25023967 0.25278524 0.2553159  0.25783244 0.26033553\n",
            " 0.26282564 0.26530349 0.26776955 0.27022436 0.27266848 0.27510238\n",
            " 0.2775265  0.27994132 0.28234744 0.28474525 0.28713518 0.28951779\n",
            " 0.29189357 0.29426289 0.29662615 0.29898399 0.30133668 0.30368492\n",
            " 0.30602896 0.30836943 0.31070673 0.31304136 0.31537378 0.31770447\n",
            " 0.320034   0.32236275 0.32469118 0.32701996 0.32934937 0.33168009\n",
            " 0.33401239 0.33634698 0.33868429 0.34102476 0.34336907 0.34571767\n",
            " 0.34807086 0.35042942 0.35279375 0.35516435]\n",
            "14 day input [[0.357542]]\n",
            "15 day input [0.15196078 0.14726307 0.14501634 0.14603758 0.12479575 0.13112745\n",
            " 0.11397059 0.1190768  0.12377451 0.13562092 0.12908497 0.13459967\n",
            " 0.12806373 0.13031046 0.12724673 0.13521242 0.14522059 0.15257353\n",
            " 0.14848856 0.14338235 0.14562908 0.15236928 0.15400327 0.14971405\n",
            " 0.1621732  0.16319444 0.16584967 0.17055576 0.17414144 0.17772354\n",
            " 0.18122885 0.18463549 0.18794926 0.19118315 0.19435011 0.19746119\n",
            " 0.20052478 0.20354691 0.20653139 0.20948058 0.21239571 0.21527766\n",
            " 0.21812706 0.22094476 0.2237318  0.22648937 0.229219   0.23192236\n",
            " 0.23460099 0.23725668 0.23989093 0.24250503 0.24510053 0.24767841\n",
            " 0.25023967 0.25278524 0.2553159  0.25783244 0.26033553 0.26282564\n",
            " 0.26530349 0.26776955 0.27022436 0.27266848 0.27510238 0.2775265\n",
            " 0.27994132 0.28234744 0.28474525 0.28713518 0.28951779 0.29189357\n",
            " 0.29426289 0.29662615 0.29898399 0.30133668 0.30368492 0.30602896\n",
            " 0.30836943 0.31070673 0.31304136 0.31537378 0.31770447 0.320034\n",
            " 0.32236275 0.32469118 0.32701996 0.32934937 0.33168009 0.33401239\n",
            " 0.33634698 0.33868429 0.34102476 0.34336907 0.34571767 0.34807086\n",
            " 0.35042942 0.35279375 0.35516435 0.35754201]\n",
            "15 day input [[0.35992712]]\n",
            "16 day input [0.14726307 0.14501634 0.14603758 0.12479575 0.13112745 0.11397059\n",
            " 0.1190768  0.12377451 0.13562092 0.12908497 0.13459967 0.12806373\n",
            " 0.13031046 0.12724673 0.13521242 0.14522059 0.15257353 0.14848856\n",
            " 0.14338235 0.14562908 0.15236928 0.15400327 0.14971405 0.1621732\n",
            " 0.16319444 0.16584967 0.17055576 0.17414144 0.17772354 0.18122885\n",
            " 0.18463549 0.18794926 0.19118315 0.19435011 0.19746119 0.20052478\n",
            " 0.20354691 0.20653139 0.20948058 0.21239571 0.21527766 0.21812706\n",
            " 0.22094476 0.2237318  0.22648937 0.229219   0.23192236 0.23460099\n",
            " 0.23725668 0.23989093 0.24250503 0.24510053 0.24767841 0.25023967\n",
            " 0.25278524 0.2553159  0.25783244 0.26033553 0.26282564 0.26530349\n",
            " 0.26776955 0.27022436 0.27266848 0.27510238 0.2775265  0.27994132\n",
            " 0.28234744 0.28474525 0.28713518 0.28951779 0.29189357 0.29426289\n",
            " 0.29662615 0.29898399 0.30133668 0.30368492 0.30602896 0.30836943\n",
            " 0.31070673 0.31304136 0.31537378 0.31770447 0.320034   0.32236275\n",
            " 0.32469118 0.32701996 0.32934937 0.33168009 0.33401239 0.33634698\n",
            " 0.33868429 0.34102476 0.34336907 0.34571767 0.34807086 0.35042942\n",
            " 0.35279375 0.35516435 0.35754201 0.35992712]\n",
            "16 day input [[0.3623203]]\n",
            "17 day input [0.14501634 0.14603758 0.12479575 0.13112745 0.11397059 0.1190768\n",
            " 0.12377451 0.13562092 0.12908497 0.13459967 0.12806373 0.13031046\n",
            " 0.12724673 0.13521242 0.14522059 0.15257353 0.14848856 0.14338235\n",
            " 0.14562908 0.15236928 0.15400327 0.14971405 0.1621732  0.16319444\n",
            " 0.16584967 0.17055576 0.17414144 0.17772354 0.18122885 0.18463549\n",
            " 0.18794926 0.19118315 0.19435011 0.19746119 0.20052478 0.20354691\n",
            " 0.20653139 0.20948058 0.21239571 0.21527766 0.21812706 0.22094476\n",
            " 0.2237318  0.22648937 0.229219   0.23192236 0.23460099 0.23725668\n",
            " 0.23989093 0.24250503 0.24510053 0.24767841 0.25023967 0.25278524\n",
            " 0.2553159  0.25783244 0.26033553 0.26282564 0.26530349 0.26776955\n",
            " 0.27022436 0.27266848 0.27510238 0.2775265  0.27994132 0.28234744\n",
            " 0.28474525 0.28713518 0.28951779 0.29189357 0.29426289 0.29662615\n",
            " 0.29898399 0.30133668 0.30368492 0.30602896 0.30836943 0.31070673\n",
            " 0.31304136 0.31537378 0.31770447 0.320034   0.32236275 0.32469118\n",
            " 0.32701996 0.32934937 0.33168009 0.33401239 0.33634698 0.33868429\n",
            " 0.34102476 0.34336907 0.34571767 0.34807086 0.35042942 0.35279375\n",
            " 0.35516435 0.35754201 0.35992712 0.3623203 ]\n",
            "17 day input [[0.36472204]]\n",
            "18 day input [0.14603758 0.12479575 0.13112745 0.11397059 0.1190768  0.12377451\n",
            " 0.13562092 0.12908497 0.13459967 0.12806373 0.13031046 0.12724673\n",
            " 0.13521242 0.14522059 0.15257353 0.14848856 0.14338235 0.14562908\n",
            " 0.15236928 0.15400327 0.14971405 0.1621732  0.16319444 0.16584967\n",
            " 0.17055576 0.17414144 0.17772354 0.18122885 0.18463549 0.18794926\n",
            " 0.19118315 0.19435011 0.19746119 0.20052478 0.20354691 0.20653139\n",
            " 0.20948058 0.21239571 0.21527766 0.21812706 0.22094476 0.2237318\n",
            " 0.22648937 0.229219   0.23192236 0.23460099 0.23725668 0.23989093\n",
            " 0.24250503 0.24510053 0.24767841 0.25023967 0.25278524 0.2553159\n",
            " 0.25783244 0.26033553 0.26282564 0.26530349 0.26776955 0.27022436\n",
            " 0.27266848 0.27510238 0.2775265  0.27994132 0.28234744 0.28474525\n",
            " 0.28713518 0.28951779 0.29189357 0.29426289 0.29662615 0.29898399\n",
            " 0.30133668 0.30368492 0.30602896 0.30836943 0.31070673 0.31304136\n",
            " 0.31537378 0.31770447 0.320034   0.32236275 0.32469118 0.32701996\n",
            " 0.32934937 0.33168009 0.33401239 0.33634698 0.33868429 0.34102476\n",
            " 0.34336907 0.34571767 0.34807086 0.35042942 0.35279375 0.35516435\n",
            " 0.35754201 0.35992712 0.3623203  0.36472204]\n",
            "18 day input [[0.36713278]]\n",
            "19 day input [0.12479575 0.13112745 0.11397059 0.1190768  0.12377451 0.13562092\n",
            " 0.12908497 0.13459967 0.12806373 0.13031046 0.12724673 0.13521242\n",
            " 0.14522059 0.15257353 0.14848856 0.14338235 0.14562908 0.15236928\n",
            " 0.15400327 0.14971405 0.1621732  0.16319444 0.16584967 0.17055576\n",
            " 0.17414144 0.17772354 0.18122885 0.18463549 0.18794926 0.19118315\n",
            " 0.19435011 0.19746119 0.20052478 0.20354691 0.20653139 0.20948058\n",
            " 0.21239571 0.21527766 0.21812706 0.22094476 0.2237318  0.22648937\n",
            " 0.229219   0.23192236 0.23460099 0.23725668 0.23989093 0.24250503\n",
            " 0.24510053 0.24767841 0.25023967 0.25278524 0.2553159  0.25783244\n",
            " 0.26033553 0.26282564 0.26530349 0.26776955 0.27022436 0.27266848\n",
            " 0.27510238 0.2775265  0.27994132 0.28234744 0.28474525 0.28713518\n",
            " 0.28951779 0.29189357 0.29426289 0.29662615 0.29898399 0.30133668\n",
            " 0.30368492 0.30602896 0.30836943 0.31070673 0.31304136 0.31537378\n",
            " 0.31770447 0.320034   0.32236275 0.32469118 0.32701996 0.32934937\n",
            " 0.33168009 0.33401239 0.33634698 0.33868429 0.34102476 0.34336907\n",
            " 0.34571767 0.34807086 0.35042942 0.35279375 0.35516435 0.35754201\n",
            " 0.35992712 0.3623203  0.36472204 0.36713278]\n",
            "19 day input [[0.36955342]]\n",
            "20 day input [0.13112745 0.11397059 0.1190768  0.12377451 0.13562092 0.12908497\n",
            " 0.13459967 0.12806373 0.13031046 0.12724673 0.13521242 0.14522059\n",
            " 0.15257353 0.14848856 0.14338235 0.14562908 0.15236928 0.15400327\n",
            " 0.14971405 0.1621732  0.16319444 0.16584967 0.17055576 0.17414144\n",
            " 0.17772354 0.18122885 0.18463549 0.18794926 0.19118315 0.19435011\n",
            " 0.19746119 0.20052478 0.20354691 0.20653139 0.20948058 0.21239571\n",
            " 0.21527766 0.21812706 0.22094476 0.2237318  0.22648937 0.229219\n",
            " 0.23192236 0.23460099 0.23725668 0.23989093 0.24250503 0.24510053\n",
            " 0.24767841 0.25023967 0.25278524 0.2553159  0.25783244 0.26033553\n",
            " 0.26282564 0.26530349 0.26776955 0.27022436 0.27266848 0.27510238\n",
            " 0.2775265  0.27994132 0.28234744 0.28474525 0.28713518 0.28951779\n",
            " 0.29189357 0.29426289 0.29662615 0.29898399 0.30133668 0.30368492\n",
            " 0.30602896 0.30836943 0.31070673 0.31304136 0.31537378 0.31770447\n",
            " 0.320034   0.32236275 0.32469118 0.32701996 0.32934937 0.33168009\n",
            " 0.33401239 0.33634698 0.33868429 0.34102476 0.34336907 0.34571767\n",
            " 0.34807086 0.35042942 0.35279375 0.35516435 0.35754201 0.35992712\n",
            " 0.3623203  0.36472204 0.36713278 0.36955342]\n",
            "20 day input [[0.37198433]]\n",
            "21 day input [0.11397059 0.1190768  0.12377451 0.13562092 0.12908497 0.13459967\n",
            " 0.12806373 0.13031046 0.12724673 0.13521242 0.14522059 0.15257353\n",
            " 0.14848856 0.14338235 0.14562908 0.15236928 0.15400327 0.14971405\n",
            " 0.1621732  0.16319444 0.16584967 0.17055576 0.17414144 0.17772354\n",
            " 0.18122885 0.18463549 0.18794926 0.19118315 0.19435011 0.19746119\n",
            " 0.20052478 0.20354691 0.20653139 0.20948058 0.21239571 0.21527766\n",
            " 0.21812706 0.22094476 0.2237318  0.22648937 0.229219   0.23192236\n",
            " 0.23460099 0.23725668 0.23989093 0.24250503 0.24510053 0.24767841\n",
            " 0.25023967 0.25278524 0.2553159  0.25783244 0.26033553 0.26282564\n",
            " 0.26530349 0.26776955 0.27022436 0.27266848 0.27510238 0.2775265\n",
            " 0.27994132 0.28234744 0.28474525 0.28713518 0.28951779 0.29189357\n",
            " 0.29426289 0.29662615 0.29898399 0.30133668 0.30368492 0.30602896\n",
            " 0.30836943 0.31070673 0.31304136 0.31537378 0.31770447 0.320034\n",
            " 0.32236275 0.32469118 0.32701996 0.32934937 0.33168009 0.33401239\n",
            " 0.33634698 0.33868429 0.34102476 0.34336907 0.34571767 0.34807086\n",
            " 0.35042942 0.35279375 0.35516435 0.35754201 0.35992712 0.3623203\n",
            " 0.36472204 0.36713278 0.36955342 0.37198433]\n",
            "21 day input [[0.3744261]]\n",
            "22 day input [0.1190768  0.12377451 0.13562092 0.12908497 0.13459967 0.12806373\n",
            " 0.13031046 0.12724673 0.13521242 0.14522059 0.15257353 0.14848856\n",
            " 0.14338235 0.14562908 0.15236928 0.15400327 0.14971405 0.1621732\n",
            " 0.16319444 0.16584967 0.17055576 0.17414144 0.17772354 0.18122885\n",
            " 0.18463549 0.18794926 0.19118315 0.19435011 0.19746119 0.20052478\n",
            " 0.20354691 0.20653139 0.20948058 0.21239571 0.21527766 0.21812706\n",
            " 0.22094476 0.2237318  0.22648937 0.229219   0.23192236 0.23460099\n",
            " 0.23725668 0.23989093 0.24250503 0.24510053 0.24767841 0.25023967\n",
            " 0.25278524 0.2553159  0.25783244 0.26033553 0.26282564 0.26530349\n",
            " 0.26776955 0.27022436 0.27266848 0.27510238 0.2775265  0.27994132\n",
            " 0.28234744 0.28474525 0.28713518 0.28951779 0.29189357 0.29426289\n",
            " 0.29662615 0.29898399 0.30133668 0.30368492 0.30602896 0.30836943\n",
            " 0.31070673 0.31304136 0.31537378 0.31770447 0.320034   0.32236275\n",
            " 0.32469118 0.32701996 0.32934937 0.33168009 0.33401239 0.33634698\n",
            " 0.33868429 0.34102476 0.34336907 0.34571767 0.34807086 0.35042942\n",
            " 0.35279375 0.35516435 0.35754201 0.35992712 0.3623203  0.36472204\n",
            " 0.36713278 0.36955342 0.37198433 0.3744261 ]\n",
            "22 day input [[0.3768795]]\n",
            "23 day input [0.12377451 0.13562092 0.12908497 0.13459967 0.12806373 0.13031046\n",
            " 0.12724673 0.13521242 0.14522059 0.15257353 0.14848856 0.14338235\n",
            " 0.14562908 0.15236928 0.15400327 0.14971405 0.1621732  0.16319444\n",
            " 0.16584967 0.17055576 0.17414144 0.17772354 0.18122885 0.18463549\n",
            " 0.18794926 0.19118315 0.19435011 0.19746119 0.20052478 0.20354691\n",
            " 0.20653139 0.20948058 0.21239571 0.21527766 0.21812706 0.22094476\n",
            " 0.2237318  0.22648937 0.229219   0.23192236 0.23460099 0.23725668\n",
            " 0.23989093 0.24250503 0.24510053 0.24767841 0.25023967 0.25278524\n",
            " 0.2553159  0.25783244 0.26033553 0.26282564 0.26530349 0.26776955\n",
            " 0.27022436 0.27266848 0.27510238 0.2775265  0.27994132 0.28234744\n",
            " 0.28474525 0.28713518 0.28951779 0.29189357 0.29426289 0.29662615\n",
            " 0.29898399 0.30133668 0.30368492 0.30602896 0.30836943 0.31070673\n",
            " 0.31304136 0.31537378 0.31770447 0.320034   0.32236275 0.32469118\n",
            " 0.32701996 0.32934937 0.33168009 0.33401239 0.33634698 0.33868429\n",
            " 0.34102476 0.34336907 0.34571767 0.34807086 0.35042942 0.35279375\n",
            " 0.35516435 0.35754201 0.35992712 0.3623203  0.36472204 0.36713278\n",
            " 0.36955342 0.37198433 0.3744261  0.37687951]\n",
            "23 day input [[0.37934494]]\n",
            "24 day input [0.13562092 0.12908497 0.13459967 0.12806373 0.13031046 0.12724673\n",
            " 0.13521242 0.14522059 0.15257353 0.14848856 0.14338235 0.14562908\n",
            " 0.15236928 0.15400327 0.14971405 0.1621732  0.16319444 0.16584967\n",
            " 0.17055576 0.17414144 0.17772354 0.18122885 0.18463549 0.18794926\n",
            " 0.19118315 0.19435011 0.19746119 0.20052478 0.20354691 0.20653139\n",
            " 0.20948058 0.21239571 0.21527766 0.21812706 0.22094476 0.2237318\n",
            " 0.22648937 0.229219   0.23192236 0.23460099 0.23725668 0.23989093\n",
            " 0.24250503 0.24510053 0.24767841 0.25023967 0.25278524 0.2553159\n",
            " 0.25783244 0.26033553 0.26282564 0.26530349 0.26776955 0.27022436\n",
            " 0.27266848 0.27510238 0.2775265  0.27994132 0.28234744 0.28474525\n",
            " 0.28713518 0.28951779 0.29189357 0.29426289 0.29662615 0.29898399\n",
            " 0.30133668 0.30368492 0.30602896 0.30836943 0.31070673 0.31304136\n",
            " 0.31537378 0.31770447 0.320034   0.32236275 0.32469118 0.32701996\n",
            " 0.32934937 0.33168009 0.33401239 0.33634698 0.33868429 0.34102476\n",
            " 0.34336907 0.34571767 0.34807086 0.35042942 0.35279375 0.35516435\n",
            " 0.35754201 0.35992712 0.3623203  0.36472204 0.36713278 0.36955342\n",
            " 0.37198433 0.3744261  0.37687951 0.37934494]\n",
            "24 day input [[0.3818233]]\n",
            "25 day input [0.12908497 0.13459967 0.12806373 0.13031046 0.12724673 0.13521242\n",
            " 0.14522059 0.15257353 0.14848856 0.14338235 0.14562908 0.15236928\n",
            " 0.15400327 0.14971405 0.1621732  0.16319444 0.16584967 0.17055576\n",
            " 0.17414144 0.17772354 0.18122885 0.18463549 0.18794926 0.19118315\n",
            " 0.19435011 0.19746119 0.20052478 0.20354691 0.20653139 0.20948058\n",
            " 0.21239571 0.21527766 0.21812706 0.22094476 0.2237318  0.22648937\n",
            " 0.229219   0.23192236 0.23460099 0.23725668 0.23989093 0.24250503\n",
            " 0.24510053 0.24767841 0.25023967 0.25278524 0.2553159  0.25783244\n",
            " 0.26033553 0.26282564 0.26530349 0.26776955 0.27022436 0.27266848\n",
            " 0.27510238 0.2775265  0.27994132 0.28234744 0.28474525 0.28713518\n",
            " 0.28951779 0.29189357 0.29426289 0.29662615 0.29898399 0.30133668\n",
            " 0.30368492 0.30602896 0.30836943 0.31070673 0.31304136 0.31537378\n",
            " 0.31770447 0.320034   0.32236275 0.32469118 0.32701996 0.32934937\n",
            " 0.33168009 0.33401239 0.33634698 0.33868429 0.34102476 0.34336907\n",
            " 0.34571767 0.34807086 0.35042942 0.35279375 0.35516435 0.35754201\n",
            " 0.35992712 0.3623203  0.36472204 0.36713278 0.36955342 0.37198433\n",
            " 0.3744261  0.37687951 0.37934494 0.3818233 ]\n",
            "25 day input [[0.38431498]]\n",
            "26 day input [0.13459967 0.12806373 0.13031046 0.12724673 0.13521242 0.14522059\n",
            " 0.15257353 0.14848856 0.14338235 0.14562908 0.15236928 0.15400327\n",
            " 0.14971405 0.1621732  0.16319444 0.16584967 0.17055576 0.17414144\n",
            " 0.17772354 0.18122885 0.18463549 0.18794926 0.19118315 0.19435011\n",
            " 0.19746119 0.20052478 0.20354691 0.20653139 0.20948058 0.21239571\n",
            " 0.21527766 0.21812706 0.22094476 0.2237318  0.22648937 0.229219\n",
            " 0.23192236 0.23460099 0.23725668 0.23989093 0.24250503 0.24510053\n",
            " 0.24767841 0.25023967 0.25278524 0.2553159  0.25783244 0.26033553\n",
            " 0.26282564 0.26530349 0.26776955 0.27022436 0.27266848 0.27510238\n",
            " 0.2775265  0.27994132 0.28234744 0.28474525 0.28713518 0.28951779\n",
            " 0.29189357 0.29426289 0.29662615 0.29898399 0.30133668 0.30368492\n",
            " 0.30602896 0.30836943 0.31070673 0.31304136 0.31537378 0.31770447\n",
            " 0.320034   0.32236275 0.32469118 0.32701996 0.32934937 0.33168009\n",
            " 0.33401239 0.33634698 0.33868429 0.34102476 0.34336907 0.34571767\n",
            " 0.34807086 0.35042942 0.35279375 0.35516435 0.35754201 0.35992712\n",
            " 0.3623203  0.36472204 0.36713278 0.36955342 0.37198433 0.3744261\n",
            " 0.37687951 0.37934494 0.3818233  0.38431498]\n",
            "26 day input [[0.38682082]]\n",
            "27 day input [0.12806373 0.13031046 0.12724673 0.13521242 0.14522059 0.15257353\n",
            " 0.14848856 0.14338235 0.14562908 0.15236928 0.15400327 0.14971405\n",
            " 0.1621732  0.16319444 0.16584967 0.17055576 0.17414144 0.17772354\n",
            " 0.18122885 0.18463549 0.18794926 0.19118315 0.19435011 0.19746119\n",
            " 0.20052478 0.20354691 0.20653139 0.20948058 0.21239571 0.21527766\n",
            " 0.21812706 0.22094476 0.2237318  0.22648937 0.229219   0.23192236\n",
            " 0.23460099 0.23725668 0.23989093 0.24250503 0.24510053 0.24767841\n",
            " 0.25023967 0.25278524 0.2553159  0.25783244 0.26033553 0.26282564\n",
            " 0.26530349 0.26776955 0.27022436 0.27266848 0.27510238 0.2775265\n",
            " 0.27994132 0.28234744 0.28474525 0.28713518 0.28951779 0.29189357\n",
            " 0.29426289 0.29662615 0.29898399 0.30133668 0.30368492 0.30602896\n",
            " 0.30836943 0.31070673 0.31304136 0.31537378 0.31770447 0.320034\n",
            " 0.32236275 0.32469118 0.32701996 0.32934937 0.33168009 0.33401239\n",
            " 0.33634698 0.33868429 0.34102476 0.34336907 0.34571767 0.34807086\n",
            " 0.35042942 0.35279375 0.35516435 0.35754201 0.35992712 0.3623203\n",
            " 0.36472204 0.36713278 0.36955342 0.37198433 0.3744261  0.37687951\n",
            " 0.37934494 0.3818233  0.38431498 0.38682082]\n",
            "27 day input [[0.38934144]]\n",
            "28 day input [0.13031046 0.12724673 0.13521242 0.14522059 0.15257353 0.14848856\n",
            " 0.14338235 0.14562908 0.15236928 0.15400327 0.14971405 0.1621732\n",
            " 0.16319444 0.16584967 0.17055576 0.17414144 0.17772354 0.18122885\n",
            " 0.18463549 0.18794926 0.19118315 0.19435011 0.19746119 0.20052478\n",
            " 0.20354691 0.20653139 0.20948058 0.21239571 0.21527766 0.21812706\n",
            " 0.22094476 0.2237318  0.22648937 0.229219   0.23192236 0.23460099\n",
            " 0.23725668 0.23989093 0.24250503 0.24510053 0.24767841 0.25023967\n",
            " 0.25278524 0.2553159  0.25783244 0.26033553 0.26282564 0.26530349\n",
            " 0.26776955 0.27022436 0.27266848 0.27510238 0.2775265  0.27994132\n",
            " 0.28234744 0.28474525 0.28713518 0.28951779 0.29189357 0.29426289\n",
            " 0.29662615 0.29898399 0.30133668 0.30368492 0.30602896 0.30836943\n",
            " 0.31070673 0.31304136 0.31537378 0.31770447 0.320034   0.32236275\n",
            " 0.32469118 0.32701996 0.32934937 0.33168009 0.33401239 0.33634698\n",
            " 0.33868429 0.34102476 0.34336907 0.34571767 0.34807086 0.35042942\n",
            " 0.35279375 0.35516435 0.35754201 0.35992712 0.3623203  0.36472204\n",
            " 0.36713278 0.36955342 0.37198433 0.3744261  0.37687951 0.37934494\n",
            " 0.3818233  0.38431498 0.38682082 0.38934144]\n",
            "28 day input [[0.3918773]]\n",
            "29 day input [0.12724673 0.13521242 0.14522059 0.15257353 0.14848856 0.14338235\n",
            " 0.14562908 0.15236928 0.15400327 0.14971405 0.1621732  0.16319444\n",
            " 0.16584967 0.17055576 0.17414144 0.17772354 0.18122885 0.18463549\n",
            " 0.18794926 0.19118315 0.19435011 0.19746119 0.20052478 0.20354691\n",
            " 0.20653139 0.20948058 0.21239571 0.21527766 0.21812706 0.22094476\n",
            " 0.2237318  0.22648937 0.229219   0.23192236 0.23460099 0.23725668\n",
            " 0.23989093 0.24250503 0.24510053 0.24767841 0.25023967 0.25278524\n",
            " 0.2553159  0.25783244 0.26033553 0.26282564 0.26530349 0.26776955\n",
            " 0.27022436 0.27266848 0.27510238 0.2775265  0.27994132 0.28234744\n",
            " 0.28474525 0.28713518 0.28951779 0.29189357 0.29426289 0.29662615\n",
            " 0.29898399 0.30133668 0.30368492 0.30602896 0.30836943 0.31070673\n",
            " 0.31304136 0.31537378 0.31770447 0.320034   0.32236275 0.32469118\n",
            " 0.32701996 0.32934937 0.33168009 0.33401239 0.33634698 0.33868429\n",
            " 0.34102476 0.34336907 0.34571767 0.34807086 0.35042942 0.35279375\n",
            " 0.35516435 0.35754201 0.35992712 0.3623203  0.36472204 0.36713278\n",
            " 0.36955342 0.37198433 0.3744261  0.37687951 0.37934494 0.3818233\n",
            " 0.38431498 0.38682082 0.38934144 0.39187729]\n",
            "29 day input [[0.39442956]]\n"
          ]
        }
      ]
    },
    {
      "cell_type": "code",
      "source": [
        "day_new = np.arange(1,101)\n",
        "day_pred = np.arange(101,131)\n",
        "df3 = close_data.tolist()\n",
        "df3.extend(list_out)\n",
        "len(close_data)"
      ],
      "metadata": {
        "colab": {
          "base_uri": "https://localhost:8080/"
        },
        "id": "hLBxM4Lq1emy",
        "outputId": "81284b28-13d7-46c4-ba6c-efbdb170d058"
      },
      "execution_count": 28,
      "outputs": [
        {
          "output_type": "execute_result",
          "data": {
            "text/plain": [
              "2035"
            ]
          },
          "metadata": {},
          "execution_count": 28
        }
      ]
    },
    {
      "cell_type": "code",
      "source": [
        "plt.plot(day_new,scaler.inverse_transform(close_data[1935:]))\n",
        "plt.plot(day_pred,scaler.inverse_transform(list_out))"
      ],
      "metadata": {
        "colab": {
          "base_uri": "https://localhost:8080/",
          "height": 284
        },
        "id": "4OhbeNuY1hm-",
        "outputId": "63f04575-3476-4097-d5ba-15c8416e352c"
      },
      "execution_count": 29,
      "outputs": [
        {
          "output_type": "execute_result",
          "data": {
            "text/plain": [
              "[<matplotlib.lines.Line2D at 0x7f101966e850>]"
            ]
          },
          "metadata": {},
          "execution_count": 29
        },
        {
          "output_type": "display_data",
          "data": {
            "text/plain": [
              "<Figure size 432x288 with 1 Axes>"
            ],
            "image/png": "[encoded data removed]"
          },
          "metadata": {
            "needs_background": "light"
          }
        }
      ]
    }
  ]
}